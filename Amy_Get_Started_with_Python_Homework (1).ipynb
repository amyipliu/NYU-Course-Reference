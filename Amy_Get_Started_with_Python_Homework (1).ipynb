{
 "cells": [
  {
   "cell_type": "markdown",
   "metadata": {},
   "source": [
    "<p><a name=\"simple\"></a></p>\n",
    "# Homework"
   ]
  },
  {
   "cell_type": "markdown",
   "metadata": {},
   "source": [
    "### Problem 1\n",
    "\n",
    "Import the math module and define a function that takes a number x and returns $\\frac{x^{2} + x^{3}}{\\sqrt{x}}$."
   ]
  },
  {
   "cell_type": "code",
   "execution_count": 6,
   "metadata": {
    "collapsed": false
   },
   "outputs": [
    {
     "name": "stdout",
     "output_type": "stream",
     "text": [
      "8.48528137423857\n"
     ]
    },
    {
     "data": {
      "text/plain": [
       "8.48528137423857"
      ]
     },
     "execution_count": 6,
     "metadata": {},
     "output_type": "execute_result"
    }
   ],
   "source": [
    "import math as ms\n",
    "\n",
    "def ex_1(x):\n",
    "    # Your code here\n",
    "    return (x**2 + x**3) / ms.sqrt(x)\n",
    "\n",
    "Ex1 = lambda x: (x**2 + x**3) / ms.sqrt(x)\n",
    "\n",
    "print(Ex1(2))\n",
    "ex_1(2)"
   ]
  },
  {
   "cell_type": "markdown",
   "metadata": {},
   "source": [
    "### Problem 2\n",
    "\n",
    "Define a function that takes a list `L` and a value `v` as input. The function should return a list that the first element is v and the second element is the maximum value in L. For example:\n",
    "\n",
    "```\n",
    "L = [1,2,3,0,0]\n",
    "ex_2(L, 2) ---> [2,3]\n",
    "```"
   ]
  },
  {
   "cell_type": "code",
   "execution_count": 7,
   "metadata": {
    "collapsed": false
   },
   "outputs": [
    {
     "data": {
      "text/plain": [
       "[2, 3]"
      ]
     },
     "execution_count": 7,
     "metadata": {},
     "output_type": "execute_result"
    }
   ],
   "source": [
    "def ex_2(L, v):\n",
    "    # Your code here\n",
    "    return [v, max(L)]\n",
    "\n",
    "L = [1,2,3,0,0]\n",
    "ex_2(L, 2)\n",
    "    \n",
    "    "
   ]
  },
  {
   "cell_type": "markdown",
   "metadata": {},
   "source": [
    "### Problem 3\n",
    "\n",
    "We discuss functional operators such as `map` and `filter`. They can take a function as argument.\n",
    "- Define a function `apply_to_zero()` which takes a function as input and return the whatever the function returns when passing 0 to it. More precisely, the function is like:\n",
    "```\n",
    "apply_to_zero(math.sin) ---> sin(0) ---> 0.0\n",
    "apply_to_zero(math.cos) ---> cos(0) ---> 1.0\n",
    "apply_to_zero(math.exp) ---> exp(0) ---> 1.0\n",
    "```"
   ]
  },
  {
   "cell_type": "code",
   "execution_count": 25,
   "metadata": {
    "collapsed": true
   },
   "outputs": [],
   "source": [
    "def apply_to_zero(func):\n",
    "    # Your code here\n",
    "    return list(map(func, [0]))"
   ]
  },
  {
   "cell_type": "code",
   "execution_count": 26,
   "metadata": {
    "collapsed": false
   },
   "outputs": [
    {
     "name": "stdout",
     "output_type": "stream",
     "text": [
      "[0.0]\n",
      "[1.0]\n",
      "[1.0]\n"
     ]
    }
   ],
   "source": [
    "#### Test\n",
    "import math\n",
    "\n",
    "print(apply_to_zero(math.sin))\n",
    "print(apply_to_zero(math.cos))\n",
    "print(apply_to_zero(math.exp))"
   ]
  },
  {
   "cell_type": "markdown",
   "metadata": {},
   "source": [
    "- Create a list of the function `math.sin`, `math.cos` and `math.exp`. Call this list `func_lst`."
   ]
  },
  {
   "cell_type": "code",
   "execution_count": 30,
   "metadata": {
    "collapsed": false
   },
   "outputs": [],
   "source": [
    "# Your code here\n",
    "fun_1st = [math.sin, math.cos, math.exp]"
   ]
  },
  {
   "cell_type": "markdown",
   "metadata": {},
   "source": [
    "- Apply all the functions in `func_lst` to 3. Do this with `map` and `lambda` expression."
   ]
  },
  {
   "cell_type": "code",
   "execution_count": 36,
   "metadata": {
    "collapsed": false
   },
   "outputs": [
    {
     "data": {
      "text/plain": [
       "[0.1411200080598672, -0.9899924966004454, 20.085536923187668]"
      ]
     },
     "execution_count": 36,
     "metadata": {},
     "output_type": "execute_result"
    }
   ],
   "source": [
    "# Your code here\n",
    "list(map(lambda f: f(3), fun_1st))"
   ]
  },
  {
   "cell_type": "markdown",
   "metadata": {
    "collapsed": true
   },
   "source": [
    "### Problem 4\n",
    "Define a function using filter to return all the lists whose length is 3 from a nested list. For example:\n",
    "```\n",
    "L = [[2, 5, 4, 9], [2, 2], [3, 4, 5]]\n",
    "ex_4(L) ---> [[3,4,5]]\n",
    "```"
   ]
  },
  {
   "cell_type": "code",
   "execution_count": 48,
   "metadata": {
    "collapsed": false
   },
   "outputs": [
    {
     "data": {
      "text/plain": [
       "[[3, 4, 5]]"
      ]
     },
     "execution_count": 48,
     "metadata": {},
     "output_type": "execute_result"
    }
   ],
   "source": [
    "def ex_4(L):\n",
    "    # Your code here\n",
    "    return len(L) == 3\n",
    "\n",
    "def ex4(LL):\n",
    "    return list(filter(ex_4, LL))\n",
    "    \n",
    "    \n",
    "L = [[2, 5, 4, 9], [2, 2], [3, 4, 5]]\n",
    "\n",
    "ex4(L)"
   ]
  },
  {
   "cell_type": "code",
   "execution_count": 1,
   "metadata": {
    "collapsed": true
   },
   "outputs": [],
   "source": [
    "def ex_4(L):\n",
    "    # Your code here\n",
    "    return list(filter(lambda l: len(l) == 3, L))"
   ]
  },
  {
   "cell_type": "markdown",
   "metadata": {},
   "source": [
    "### Problem 5"
   ]
  },
  {
   "cell_type": "markdown",
   "metadata": {},
   "source": [
    "- For the list, **Lst**, below, square all its elements."
   ]
  },
  {
   "cell_type": "code",
   "execution_count": 53,
   "metadata": {
    "collapsed": false
   },
   "outputs": [
    {
     "data": {
      "text/plain": [
       "[1.0, 1.4142135623730951, 1.7320508075688772]"
      ]
     },
     "execution_count": 53,
     "metadata": {},
     "output_type": "execute_result"
    }
   ],
   "source": [
    "Lst = [1,2,3]\n",
    "\n",
    "# Your code here\n",
    "list(map(lambda x: ms.sqrt(x), Lst))\n"
   ]
  },
  {
   "cell_type": "markdown",
   "metadata": {},
   "source": [
    "- For the nested list, **Lst**, below, square all the elements in each inner list."
   ]
  },
  {
   "cell_type": "code",
   "execution_count": 61,
   "metadata": {
    "collapsed": false
   },
   "outputs": [
    {
     "data": {
      "text/plain": [
       "[[1.0, 1.4142135623730951, 1.7320508075688772],\n",
       " [1.4142135623730951, 1.7320508075688772, 2.0],\n",
       " [1.7320508075688772, 2.0, 2.23606797749979]]"
      ]
     },
     "execution_count": 61,
     "metadata": {},
     "output_type": "execute_result"
    }
   ],
   "source": [
    "Lst = [[1,2,3],[2,3,4],[3,4,5]]\n",
    "\n",
    "# Your code here\n",
    "\n",
    "def sq(L):\n",
    "    return list(map(lambda x :ms.sqrt(x),L))\n",
    "\n",
    "list(map(lambda L: list(map(lambda x :ms.sqrt(x),L )), Lst))"
   ]
  },
  {
   "cell_type": "markdown",
   "metadata": {
    "collapsed": true
   },
   "source": [
    "- For the following nested list, **Lst**, keep the first inner list, square the second and cube the last one."
   ]
  },
  {
   "cell_type": "code",
   "execution_count": 9,
   "metadata": {
    "collapsed": false
   },
   "outputs": [
    {
     "data": {
      "text/plain": [
       "[[1, 2, 3], [4, 9, 16], [27, 64, 125]]"
      ]
     },
     "execution_count": 9,
     "metadata": {},
     "output_type": "execute_result"
    }
   ],
   "source": [
    "Lst = [[1,2,3],[2,3,4],[3,4,5]]\n",
    "\n",
    "# Your code here\n",
    "LST = Lst[0] , list(map(lambda x: x**2, Lst[1])), list(map(lambda x: x **3, Lst[2]))\n",
    "list(LST)\n",
    "## list(map(lambda tup: list(map(lambda ele: ele**tup[1] ,tup[0])) ,zip(Lst, range(1,4))))\n"
   ]
  },
  {
   "cell_type": "markdown",
   "metadata": {},
   "source": [
    "### Problem 6\n",
    "- The function map can be used for multiple lists. Assume the list **Lst** below record the price of 6 consecutive days. Compute the daily return. \n",
    "\n",
    "**Hint**: Since we have data for 6 days, we have only 5 daily return."
   ]
  },
  {
   "cell_type": "code",
   "execution_count": 69,
   "metadata": {
    "collapsed": false
   },
   "outputs": [
    {
     "data": {
      "text/plain": [
       "[([1, 2, 3], 1), ([2, 3, 4], 2), ([3, 4, 5], 3)]"
      ]
     },
     "execution_count": 69,
     "metadata": {},
     "output_type": "execute_result"
    }
   ],
   "source": [
    "list(zip(Lst, range(1,4)))"
   ]
  },
  {
   "cell_type": "code",
   "execution_count": 57,
   "metadata": {
    "collapsed": false
   },
   "outputs": [
    {
     "data": {
      "text/plain": [
       "[10.0,\n",
       " 9.090909090909092,\n",
       " 8.333333333333332,\n",
       " 7.6923076923076925,\n",
       " 7.142857142857142]"
      ]
     },
     "execution_count": 57,
     "metadata": {},
     "output_type": "execute_result"
    }
   ],
   "source": [
    "Lst=[10., 11., 12., 13., 14., 15.]\n",
    "\n",
    "# Your code here\n",
    "\n",
    "\n",
    "L1 = L[1:]\n",
    "\n",
    "list(map(lambda x,y: (y-x)/x*100, Lst, L[1:]))\n",
    "\n"
   ]
  },
  {
   "cell_type": "code",
   "execution_count": 30,
   "metadata": {
    "collapsed": false
   },
   "outputs": [
    {
     "data": {
      "text/plain": [
       "((10.0, 11.0), (11.0, 12.0), (12.0, 13.0), (13.0, 14.0), (14.0, 15.0))"
      ]
     },
     "execution_count": 30,
     "metadata": {},
     "output_type": "execute_result"
    }
   ],
   "source": [
    "tuple(zip(Lst,  L[1:]))"
   ]
  },
  {
   "cell_type": "code",
   "execution_count": 25,
   "metadata": {
    "collapsed": false
   },
   "outputs": [
    {
     "data": {
      "text/plain": [
       "[0.1,\n",
       " 0.09090909090909091,\n",
       " 0.08333333333333333,\n",
       " 0.07692307692307693,\n",
       " 0.07142857142857142]"
      ]
     },
     "execution_count": 25,
     "metadata": {},
     "output_type": "execute_result"
    }
   ],
   "source": [
    "[(right-left)/left \n",
    " for(left,right) \n",
    " in zip(Lst,  L[1:])]"
   ]
  },
  {
   "cell_type": "markdown",
   "metadata": {},
   "source": [
    "- Find the days with returns greater than 8%. Your code need calculate the return and also report if it's the first day, second day...etc"
   ]
  },
  {
   "cell_type": "code",
   "execution_count": 59,
   "metadata": {
    "collapsed": false,
    "scrolled": true
   },
   "outputs": [
    {
     "data": {
      "text/plain": [
       "[10.0,\n",
       " 9.090909090909092,\n",
       " 8.333333333333332,\n",
       " 7.6923076923076925,\n",
       " 7.142857142857142]"
      ]
     },
     "execution_count": 59,
     "metadata": {},
     "output_type": "execute_result"
    }
   ],
   "source": [
    "# Your code here\n",
    "returnr = list(map(lambda x,y: (y-x)/x*100, Lst, L[1:]))\n",
    "returnr"
   ]
  },
  {
   "cell_type": "code",
   "execution_count": 68,
   "metadata": {
    "collapsed": false
   },
   "outputs": [
    {
     "name": "stdout",
     "output_type": "stream",
     "text": [
      "Day1: 10.0\n",
      "Day2: 9.090909090909092\n",
      "Day3: 8.333333333333332\n"
     ]
    }
   ],
   "source": [
    "for day,elm in enumerate(returnr):\n",
    "    if elm >8:   # put \n",
    "        print ('Day%d: %d' % (day+1, elm)) "
   ]
  },
  {
   "cell_type": "code",
   "execution_count": 64,
   "metadata": {
    "collapsed": false
   },
   "outputs": [
    {
     "data": {
      "text/plain": [
       "['day 1 : 10.0', 'day 2 : 9.090909090909092', 'day 3 : 8.333333333333332']"
      ]
     },
     "execution_count": 64,
     "metadata": {},
     "output_type": "execute_result"
    }
   ],
   "source": [
    "[\"day {} : {}\".format(n+1,i) for n,i in enumerate(returnr) if i>8]\n",
    "\n",
    "# \"day {} : {}\".format(n+1,i) = 'Day%d: %d' % (day+1, elm)"
   ]
  },
  {
   "cell_type": "markdown",
   "metadata": {},
   "source": [
    "### Problem 7\n",
    "Write a function **countString** with two arguments *raw_string* and *string_to_count*. Your function should return the number of times of *string_to_count* occurs in the the *raw_string* argument. In addition, Your function should be case insensitive. \n",
    "\n",
    "[optional hints] [count](https://docs.python.org/2/library/string.html#string.count), [split](https://docs.python.org/2/library/string.html#string.split) method or [find](https://docs.python.org/2/library/string.html#string.find) method might be useful.\n",
    "\n",
    "For example, *countString('welcome to nyc(NYC) data science academy!', 'nyc')* should return 2."
   ]
  },
  {
   "cell_type": "code",
   "execution_count": 77,
   "metadata": {
    "collapsed": true
   },
   "outputs": [],
   "source": [
    "def countString(raw_string, string_to_count):\n",
    "    # Your code here\n",
    "    return raw_string.lower().count(string_to_count.lower())"
   ]
  },
  {
   "cell_type": "code",
   "execution_count": 78,
   "metadata": {
    "collapsed": false
   },
   "outputs": [
    {
     "data": {
      "text/plain": [
       "1"
      ]
     },
     "execution_count": 78,
     "metadata": {},
     "output_type": "execute_result"
    }
   ],
   "source": [
    "countString('Welcome to nyc DATA SCIENCE ACADEMY!', 'NYC') # 1"
   ]
  },
  {
   "cell_type": "code",
   "execution_count": 79,
   "metadata": {
    "collapsed": false
   },
   "outputs": [
    {
     "data": {
      "text/plain": [
       "2"
      ]
     },
     "execution_count": 79,
     "metadata": {},
     "output_type": "execute_result"
    }
   ],
   "source": [
    "countString('Welcome to nyc(NYC) data science academy!', 'nyc') # 2"
   ]
  },
  {
   "cell_type": "code",
   "execution_count": 80,
   "metadata": {
    "collapsed": false
   },
   "outputs": [
    {
     "data": {
      "text/plain": [
       "42"
      ]
     },
     "execution_count": 80,
     "metadata": {},
     "output_type": "execute_result"
    }
   ],
   "source": [
    "countString('welcome to nyc(NYC) data science academy!', '') # 41 and 42 are both fine."
   ]
  },
  {
   "cell_type": "markdown",
   "metadata": {},
   "source": [
    "### Problem 8\n",
    "Write a function reverseString with an argument *raw_string*.  Your function should return a new string, reverse the *raw_string* word by word.\n",
    "\n",
    "For example *reverseString(\"welcome to NYC Data Science Academy\")* should return \"Academy Science Data NYC to welcome\"."
   ]
  },
  {
   "cell_type": "code",
   "execution_count": 93,
   "metadata": {
    "collapsed": false
   },
   "outputs": [],
   "source": [
    "def reverseString(raw_string):\n",
    "    # Your code here\n",
    "    return raw_string.split()[::-1]"
   ]
  },
  {
   "cell_type": "code",
   "execution_count": 105,
   "metadata": {
    "collapsed": false
   },
   "outputs": [
    {
     "data": {
      "text/plain": [
       "'Academy Science Data NYC to welcome'"
      ]
     },
     "execution_count": 105,
     "metadata": {},
     "output_type": "execute_result"
    }
   ],
   "source": [
    "a = reverseString(\"welcome to NYC Data Science Academy\")\n",
    "' '.join(a)\n",
    "# \"Academy Science Data NYC to welcome\"."
   ]
  },
  {
   "cell_type": "code",
   "execution_count": null,
   "metadata": {
    "collapsed": true
   },
   "outputs": [],
   "source": []
  }
 ],
 "metadata": {
  "kernelspec": {
   "display_name": "Python 3",
   "language": "python",
   "name": "python3"
  },
  "language_info": {
   "codemirror_mode": {
    "name": "ipython",
    "version": 3
   },
   "file_extension": ".py",
   "mimetype": "text/x-python",
   "name": "python",
   "nbconvert_exporter": "python",
   "pygments_lexer": "ipython3",
   "version": "3.6.0"
  }
 },
 "nbformat": 4,
 "nbformat_minor": 1
}
